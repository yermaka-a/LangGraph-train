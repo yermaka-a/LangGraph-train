{
 "cells": [
  {
   "cell_type": "code",
   "execution_count": 120,
   "id": "c0cc54fc",
   "metadata": {},
   "outputs": [],
   "source": [
    "from typing import TypedDict, List\n",
    "from langgraph.graph import StateGraph, END\n",
    "import random"
   ]
  },
  {
   "cell_type": "code",
   "execution_count": 121,
   "id": "7ccb27c0",
   "metadata": {},
   "outputs": [],
   "source": [
    "class AgentState(TypedDict):\n",
    "    player_name: str\n",
    "    guesses: List[int]\n",
    "    attempts: int\n",
    "    guessed_num: int\n",
    "    lower_bound: int\n",
    "    answer: int\n",
    "    upper_bound: int"
   ]
  },
  {
   "cell_type": "code",
   "execution_count": 122,
   "id": "2b143586",
   "metadata": {},
   "outputs": [],
   "source": [
    "def greeting(state: AgentState) -> AgentState:\n",
    "    print(\"Dear \" + state['player_name'] + \" hello at this wonderful game!\")\n",
    "    state['guessed_num'] = random.randint(state[\"lower_bound\"], state[\"upper_bound\"])\n",
    "    return state \n",
    "\n",
    "def guess_number(state: AgentState) -> AgentState:\n",
    "    state[\"answer\"] = int(input(\"\\nyour guess: \"))\n",
    "    state['guesses'].append(state[\"answer\"])\n",
    "    state[\"attempts\"] += 1 \n",
    "       \n",
    "    return state\n",
    "\n",
    "def should_continue(state: AgentState) -> AgentState:\n",
    "    if state[\"answer\"] == state[\"guessed_num\"]:\n",
    "        print(\"You're right!\\n\")\n",
    "        return \"exit\"\n",
    "    else:\n",
    "        print(f\"\\nI'm sorry it's incorrect\\nyour assumptions: {str(state['guesses'])}\" + f\"\\nYour attempts: {state[\"attempts\"]}\")\n",
    "        print(\"Correct answer is lower!\\n\") if state[\"answer\"] > state[\"guessed_num\"] else print(\"Correct answer is higher!\\n\")  \n",
    "        return \"loop\""
   ]
  },
  {
   "cell_type": "code",
   "execution_count": 123,
   "id": "5d12bfb1",
   "metadata": {},
   "outputs": [],
   "source": [
    "graph = StateGraph(AgentState)\n",
    "graph.add_node('greeting', greeting)\n",
    "graph.add_node('guess', guess_number)\n",
    "graph.add_edge('greeting', 'guess')\n",
    "\n",
    "graph.add_conditional_edges('guess', should_continue, {\n",
    "    \"loop\": \"guess\",\n",
    "    \"exit\": END\n",
    "})\n",
    "graph.set_entry_point('greeting')\n",
    "app = graph.compile()"
   ]
  },
  {
   "cell_type": "code",
   "execution_count": 124,
   "id": "fd91b39f",
   "metadata": {},
   "outputs": [
    {
     "data": {
      "image/png": "[encoded data removed]",
      "text/plain": [
       "<IPython.core.display.Image object>"
      ]
     },
     "metadata": {},
     "output_type": "display_data"
    }
   ],
   "source": [
    "from IPython.display import Image, display\n",
    "display(Image(app.get_graph().draw_mermaid_png()))"
   ]
  },
  {
   "cell_type": "code",
   "execution_count": 125,
   "id": "92155c74",
   "metadata": {},
   "outputs": [
    {
     "name": "stdout",
     "output_type": "stream",
     "text": [
      "Dear Yermak hello at this wonderful game!\n",
      "\n",
      "I'm sorry it's incorrect\n",
      "your assumptions: [1]\n",
      "Your attempts: 1\n",
      "Correct answer is higher!\n",
      "\n",
      "\n",
      "I'm sorry it's incorrect\n",
      "your assumptions: [1, 10]\n",
      "Your attempts: 2\n",
      "Correct answer is lower!\n",
      "\n",
      "\n",
      "I'm sorry it's incorrect\n",
      "your assumptions: [1, 10, 5]\n",
      "Your attempts: 3\n",
      "Correct answer is higher!\n",
      "\n",
      "\n",
      "I'm sorry it's incorrect\n",
      "your assumptions: [1, 10, 5, 7]\n",
      "Your attempts: 4\n",
      "Correct answer is lower!\n",
      "\n",
      "\n",
      "I'm sorry it's incorrect\n",
      "your assumptions: [1, 10, 5, 7, 9]\n",
      "Your attempts: 5\n",
      "Correct answer is lower!\n",
      "\n",
      "\n",
      "I'm sorry it's incorrect\n",
      "your assumptions: [1, 10, 5, 7, 9, 8]\n",
      "Your attempts: 6\n",
      "Correct answer is lower!\n",
      "\n",
      "You're right!\n",
      "\n"
     ]
    }
   ],
   "source": [
    "state = AgentState(player_name=\"Yermak\", attempts=0, guesses=[], lower_bound=0, upper_bound=20)\n",
    "res = app.invoke(state)"
   ]
  },
  {
   "cell_type": "code",
   "execution_count": null,
   "id": "f220cc2c",
   "metadata": {},
   "outputs": [],
   "source": []
  }
 ],
 "metadata": {
  "kernelspec": {
   "display_name": ".venv",
   "language": "python",
   "name": "python3"
  },
  "language_info": {
   "codemirror_mode": {
    "name": "ipython",
    "version": 3
   },
   "file_extension": ".py",
   "mimetype": "text/x-python",
   "name": "python",
   "nbconvert_exporter": "python",
   "pygments_lexer": "ipython3",
   "version": "3.13.1"
  }
 },
 "nbformat": 4,
 "nbformat_minor": 5
}
