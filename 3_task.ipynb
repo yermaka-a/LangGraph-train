{
 "cells": [
  {
   "cell_type": "code",
   "execution_count": 1,
   "id": "cde44c21",
   "metadata": {},
   "outputs": [],
   "source": [
    "from typing import TypedDict, List\n",
    "from langgraph.graph import StateGraph"
   ]
  },
  {
   "cell_type": "code",
   "execution_count": 3,
   "id": "cd9c499a",
   "metadata": {},
   "outputs": [],
   "source": [
    "class AgentState(TypedDict):\n",
    "    name: str\n",
    "    age: int\n",
    "    skills: List[str]"
   ]
  },
  {
   "cell_type": "code",
   "execution_count": 18,
   "id": "2b1fa153",
   "metadata": {},
   "outputs": [],
   "source": [
    "def first_node(state: AgentState) -> AgentState:\n",
    "    state['name'] += ' welcome to the system!'\n",
    "    return state\n",
    "\n",
    "def second_node(state: AgentState) -> AgentState:\n",
    "    state['age'] = f\"you're {state['age']} years old!\"\n",
    "    return state\n",
    "\n",
    "def third_node(state: AgentState) -> AgentState:\n",
    "    state['skills'] = \"you have skills: \" + \", \".join(state['skills'])\n",
    "    return state"
   ]
  },
  {
   "cell_type": "code",
   "execution_count": 19,
   "id": "865ba435",
   "metadata": {},
   "outputs": [],
   "source": [
    "graph = StateGraph(AgentState)\n",
    "graph.add_node('first', first_node)\n",
    "graph.add_node('second', second_node)\n",
    "graph.add_node('third', third_node)\n",
    "graph.set_entry_point('first')\n",
    "graph.add_edge('first', 'second')\n",
    "graph.add_edge('second', 'third')\n",
    "graph.set_finish_point('third')\n",
    "\n",
    "app = graph.compile()"
   ]
  },
  {
   "cell_type": "code",
   "execution_count": 20,
   "id": "48a422a8",
   "metadata": {},
   "outputs": [
    {
     "data": {
      "image/png": "[encoded data removed]",
      "text/plain": [
       "<IPython.core.display.Image object>"
      ]
     },
     "metadata": {},
     "output_type": "display_data"
    }
   ],
   "source": [
    "from IPython.display import Image, display\n",
    "display(Image(app.get_graph().draw_mermaid_png()))"
   ]
  },
  {
   "cell_type": "code",
   "execution_count": 21,
   "id": "f88dea24",
   "metadata": {},
   "outputs": [],
   "source": [
    "res = app.invoke({'name': \" Bob\", 'age': 23, 'skills': ['run', 'jump', 'programming']})"
   ]
  },
  {
   "cell_type": "code",
   "execution_count": 22,
   "id": "a83dfea8",
   "metadata": {},
   "outputs": [
    {
     "data": {
      "text/plain": [
       "\"you're 23 years old!  Bob welcome to the system! you have skills: run, jump, programming\""
      ]
     },
     "execution_count": 22,
     "metadata": {},
     "output_type": "execute_result"
    }
   ],
   "source": [
    "res['age'] + ' ' + res['name'] + ' ' + res['skills']"
   ]
  },
  {
   "cell_type": "code",
   "execution_count": 23,
   "id": "b876cf1c",
   "metadata": {},
   "outputs": [
    {
     "data": {
      "image/png": "[encoded data removed]",
      "text/plain": [
       "<IPython.core.display.Image object>"
      ]
     },
     "metadata": {},
     "output_type": "display_data"
    }
   ],
   "source": [
    "from IPython.display import Image, display\n",
    "display(Image(app.get_graph().draw_mermaid_png()))"
   ]
  },
  {
   "cell_type": "code",
   "execution_count": null,
   "id": "58699f9d",
   "metadata": {},
   "outputs": [],
   "source": []
  }
 ],
 "metadata": {
  "kernelspec": {
   "display_name": ".venv",
   "language": "python",
   "name": "python3"
  },
  "language_info": {
   "codemirror_mode": {
    "name": "ipython",
    "version": 3
   },
   "file_extension": ".py",
   "mimetype": "text/x-python",
   "name": "python",
   "nbconvert_exporter": "python",
   "pygments_lexer": "ipython3",
   "version": "3.13.1"
  }
 },
 "nbformat": 4,
 "nbformat_minor": 5
}
