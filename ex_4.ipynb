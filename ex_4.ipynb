{
 "cells": [
  {
   "cell_type": "code",
   "execution_count": 1,
   "id": "45c2bbac",
   "metadata": {},
   "outputs": [],
   "source": [
    "from typing import List, TypedDict\n",
    "from langgraph.graph import StateGraph, START, END"
   ]
  },
  {
   "cell_type": "code",
   "execution_count": 2,
   "id": "d33ad4b3",
   "metadata": {},
   "outputs": [],
   "source": [
    "class AgentState(TypedDict):\n",
    "    number1: int\n",
    "    number2: int\n",
    "    number3: int\n",
    "    number4: int\n",
    "    operation: str\n",
    "    operation2: str\n",
    "    finalNumber: int\n",
    "    finalNumber2: int"
   ]
  },
  {
   "cell_type": "code",
   "execution_count": 3,
   "id": "f2b27948",
   "metadata": {},
   "outputs": [],
   "source": [
    "def add(state: AgentState)-> AgentState:\n",
    "    print('add', state)\n",
    "    state['finalNumber'] =  state['number1'] + state['number2']\n",
    "    return state\n",
    "def add2(state: AgentState)-> AgentState:\n",
    "    print('add2', state)\n",
    "    state['finalNumber2'] =  state['number3'] + state['number4']\n",
    "    return state\n",
    "\n",
    "def sub(state: AgentState)-> AgentState:\n",
    "    print('sub', state)\n",
    "    state['finalNumber'] =  state['number1'] - state['number2']\n",
    "    return state\n",
    "def sub2(state: AgentState)-> AgentState:\n",
    "    print('sub2', state)\n",
    "    state['finalNumber2'] =  state['number3'] - state['number4']\n",
    "    return state\n",
    "\n",
    "def cond(state: AgentState) -> AgentState:\n",
    "    if state['operation'] == '+':\n",
    "        return 'add1_edge'\n",
    "    if state['operation'] == '-':\n",
    "        return 'sub1_edge'\n",
    "    \n",
    "def cond2(state: AgentState) -> AgentState:\n",
    "    print('cond2', state)\n",
    "    if state['operation2'] == '+':\n",
    "        return 'add2_edge'\n",
    "    if state['operation2'] == '-':\n",
    "        return 'sub2_edge'    \n",
    "graph = StateGraph(AgentState)"
   ]
  },
  {
   "cell_type": "code",
   "execution_count": 4,
   "id": "7227f6ff",
   "metadata": {},
   "outputs": [],
   "source": [
    "graph.add_node('add1', add)\n",
    "graph.add_node('add2', add2)\n",
    "graph.add_node('sub1', sub)\n",
    "graph.add_node('sub2', sub2)\n",
    "graph.add_node('router', lambda state: state)\n",
    "graph.add_node('router2', lambda state: state)\n",
    "graph.add_edge(START, 'router')\n",
    "graph.add_conditional_edges('router', cond, {\n",
    "    'add1_edge': 'add1',\n",
    "    'sub1_edge': 'sub1' \n",
    "})\n",
    "graph.add_edge('add1', 'router2')\n",
    "graph.add_edge('sub1', 'router2')\n",
    "graph.add_conditional_edges('router2', cond2, {\n",
    "    'add2_edge': 'add2',\n",
    "    'sub2_edge': 'sub2' \n",
    "})\n",
    "graph.add_edge('add2', END)\n",
    "graph.add_edge('sub2', END)\n",
    "\n",
    "\n",
    "app = graph.compile()"
   ]
  },
  {
   "cell_type": "code",
   "execution_count": 5,
   "id": "42c8a1f5",
   "metadata": {},
   "outputs": [
    {
     "data": {
      "image/png": "[encoded data removed]",
      "text/plain": [
       "<IPython.core.display.Image object>"
      ]
     },
     "metadata": {},
     "output_type": "display_data"
    }
   ],
   "source": [
    "from IPython.display import Image, display\n",
    "display(Image(app.get_graph().draw_mermaid_png()))"
   ]
  },
  {
   "cell_type": "code",
   "execution_count": 6,
   "id": "5af9c72f",
   "metadata": {},
   "outputs": [
    {
     "name": "stdout",
     "output_type": "stream",
     "text": [
      "add {'number1': 10, 'number2': 5, 'number3': 2, 'number4': 7, 'operation': '+', 'operation2': '-', 'finalNumber': 0, 'finalNumber2': 0}\n",
      "cond2 {'number1': 10, 'number2': 5, 'number3': 2, 'number4': 7, 'operation': '+', 'operation2': '-', 'finalNumber': 15, 'finalNumber2': 0}\n",
      "sub2 {'number1': 10, 'number2': 5, 'number3': 2, 'number4': 7, 'operation': '+', 'operation2': '-', 'finalNumber': 15, 'finalNumber2': 0}\n"
     ]
    },
    {
     "data": {
      "text/plain": [
       "{'number1': 10,\n",
       " 'number2': 5,\n",
       " 'number3': 2,\n",
       " 'number4': 7,\n",
       " 'operation': '+',\n",
       " 'operation2': '-',\n",
       " 'finalNumber': 15,\n",
       " 'finalNumber2': -5}"
      ]
     },
     "execution_count": 6,
     "metadata": {},
     "output_type": "execute_result"
    }
   ],
   "source": [
    "user_agent2 = AgentState(finalNumber=0, finalNumber2=0, number1=10, number2=5, number3=2, number4=7, operation='+', operation2='-')\n",
    "\n",
    "app.invoke(user_agent2)"
   ]
  },
  {
   "cell_type": "code",
   "execution_count": null,
   "id": "6692e56a",
   "metadata": {},
   "outputs": [],
   "source": []
  }
 ],
 "metadata": {
  "kernelspec": {
   "display_name": ".venv",
   "language": "python",
   "name": "python3"
  },
  "language_info": {
   "codemirror_mode": {
    "name": "ipython",
    "version": 3
   },
   "file_extension": ".py",
   "mimetype": "text/x-python",
   "name": "python",
   "nbconvert_exporter": "python",
   "pygments_lexer": "ipython3",
   "version": "3.13.1"
  }
 },
 "nbformat": 4,
 "nbformat_minor": 5
}
